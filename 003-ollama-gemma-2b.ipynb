{
 "cells": [
  {
   "cell_type": "code",
   "execution_count": null,
   "metadata": {},
   "outputs": [],
   "source": [
    "%%capture cap\n",
    "!pip3 install -U bitsandbytes\n",
    "!pip3 install -U pef\n",
    "!pip3 install -U trl\n",
    "!pip3 install -U accelerate\n",
    "!pip3 install -U datasets\n",
    "!pip3 install -U transformers\n",
    "!pip3 install langchain sentence-transformers chromadb langchainhub\n",
    "\n"
   ]
  },
  {
   "cell_type": "code",
   "execution_count": null,
   "metadata": {},
   "outputs": [],
   "source": [
    "with open(\"pip.log\", \"w\") as file:\n",
    "    file.write(cap.stdout)"
   ]
  },
  {
   "cell_type": "code",
   "execution_count": 4,
   "metadata": {},
   "outputs": [],
   "source": [
    "from langchain_community.llms import Ollama\n",
    "from langchain.chains import LLMChain\n",
    "from langchain.prompts import PromptTemplate\n",
    "\n"
   ]
  },
  {
   "cell_type": "code",
   "execution_count": 8,
   "metadata": {},
   "outputs": [],
   "source": [
    "model = \"gemma:2b-instruct\"\n",
    "llm = Ollama(model=model)\n",
    "\n",
    "prompt = \"Tell me a joke\"\n"
   ]
  },
  {
   "cell_type": "code",
   "execution_count": 9,
   "metadata": {},
   "outputs": [
    {
     "name": "stdout",
     "output_type": "stream",
     "text": [
      "Invoking prompt: 'Tell me a joke' ...\n"
     ]
    },
    {
     "name": "stdout",
     "output_type": "stream",
     "text": [
      "Why did the math book look so sad?\n",
      "\n",
      "Because of all of its problems!\n"
     ]
    },
    {
     "data": {
      "text/plain": [
       "'Why did the math book look so sad?\\n\\nBecause of all of its problems.'"
      ]
     },
     "execution_count": 9,
     "metadata": {},
     "output_type": "execute_result"
    }
   ],
   "source": [
    "\n",
    "# Invoke with a prompt, response as a whole.\n",
    "print(f\"Invoking prompt: '{prompt}' ...\")\n",
    "response = llm.invoke(prompt)\n",
    "print(response)\n",
    "llm.invoke(\"Tell me a joke\")"
   ]
  },
  {
   "cell_type": "code",
   "execution_count": 10,
   "metadata": {},
   "outputs": [
    {
     "name": "stdout",
     "output_type": "stream",
     "text": [
      "Streaming response for prompt: 'Tell me a joke' ...\n",
      "Why did the math book look so sad?\n",
      "\n",
      "Because of all of its problems!"
     ]
    }
   ],
   "source": [
    "chunks = []\n",
    "print(f\"Streaming response for prompt: '{prompt}' ...\")\n",
    "for chunk in llm.stream(prompt):\n",
    "    chunks.append(chunk)\n",
    "    print(chunk, end=\"\", flush=False)"
   ]
  },
  {
   "cell_type": "code",
   "execution_count": null,
   "metadata": {},
   "outputs": [],
   "source": []
  }
 ],
 "metadata": {
  "kernelspec": {
   "display_name": "cloudspace",
   "language": "python",
   "name": "python3"
  },
  "language_info": {
   "codemirror_mode": {
    "name": "ipython",
    "version": 3
   },
   "file_extension": ".py",
   "mimetype": "text/x-python",
   "name": "python",
   "nbconvert_exporter": "python",
   "pygments_lexer": "ipython3",
   "version": "3.10.10"
  }
 },
 "nbformat": 4,
 "nbformat_minor": 2
}
