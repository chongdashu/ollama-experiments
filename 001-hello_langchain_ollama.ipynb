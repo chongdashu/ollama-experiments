{
 "cells": [
  {
   "cell_type": "markdown",
   "metadata": {},
   "source": [
    "# Introduction\n",
    "This is a very basic notebook that showcases how to interface with a locally running Ollama instance"
   ]
  },
  {
   "cell_type": "markdown",
   "metadata": {},
   "source": [
    "## Pre-requisites"
   ]
  },
  {
   "cell_type": "code",
   "execution_count": 7,
   "metadata": {},
   "outputs": [],
   "source": [
    "!pip install langchain==0.1.20 -q"
   ]
  },
  {
   "cell_type": "code",
   "execution_count": 1,
   "metadata": {},
   "outputs": [],
   "source": [
    "# Import Ollama module from langchain\n",
    "from langchain_community.llms import Ollama\n",
    "\n",
    "# State which model we want\n",
    "model = \"llama3\"\n",
    "\n",
    "# Initialise the model\n",
    "llm = Ollama(model=model)"
   ]
  },
  {
   "cell_type": "code",
   "execution_count": 2,
   "metadata": {},
   "outputs": [
    {
     "data": {
      "text/plain": [
       "\"LangSmith, a machine translation tool, can assist with testing in various ways:\\n\\n1. **Automated Translation**: LangSmith can automatically translate your test cases, test data, and error messages into the target language, making it easier to test multilingual applications or features.\\n2. **Test Case Generation**: LangSmith's AI-powered algorithms can generate test cases based on existing tests, translating them into different languages. This helps ensure that your application is thoroughly tested in various linguistic contexts.\\n3. **Error Message Translation**: When testing, errors often occur, and error messages need to be translated for users who don't speak the same language as the developer. LangSmith can quickly translate error messages, making it easier to debug issues across languages.\\n4. **User Interface Testing**: Langsmith can assist in testing multilingual user interfaces by translating UI elements, such as buttons, labels, and menus, into different languages. This helps ensure that your application is usable and accessible for users worldwide.\\n5. **Localization Testing**: LangSmith's machine translation capabilities can help with localization testing by translating content, such as product descriptions, marketing materials, or social media posts, to test the localized experience.\\n6. **Contextual Understanding**: LangSmith's AI-driven translations are designed to understand the context of the text, which is essential when testing applications that involve complex language interactions.\\n\\nBy leveraging LangSmith's machine translation capabilities, you can:\\n\\n* Reduce testing costs and time by automating the translation process\\n* Improve the accuracy and efficiency of your testing processes\\n* Ensure a more comprehensive test coverage for multilingual applications\\n* Enhance the overall quality and usability of your application for users worldwide\\n\\nKeep in mind that LangSmith is not intended to replace human translators or testers but rather assist them in their work, especially when dealing with large volumes of text or time-sensitive projects.\""
      ]
     },
     "execution_count": 2,
     "metadata": {},
     "output_type": "execute_result"
    }
   ],
   "source": [
    "# Invoke with a prompt, response as a whole.\n",
    "prompt = \"how can langsmith help with testing?\"\n",
    "llm.invoke(prompt)"
   ]
  },
  {
   "cell_type": "code",
   "execution_count": 3,
   "metadata": {},
   "outputs": [
    {
     "name": "stdout",
     "output_type": "stream",
     "text": [
      "LangSmith, a language modeling platform, can indeed assist with testing in several ways:\n",
      "\n",
      "1. **Automated Testing**: LangSmith provides pre-built templates for testing natural language processing (NLP) models. These templates allow you to create test cases that mimic real-world scenarios, which helps ensure your NLP model is robust and accurate.\n",
      "\n",
      "2. **Active Learning**: LangSmith's active learning feature allows you to select the most uncertain or difficult examples from a dataset and use them as test cases. This approach can help identify edge cases or areas where your model may need improvement.\n",
      "\n",
      "3. **Evaluation Metrics**: LangSmith provides various evaluation metrics, such as BLEU score, ROUGE score, METEOR score, and more, to measure the performance of your NLP models. These metrics enable you to compare different models or versions of a model and identify areas for improvement.\n",
      "\n",
      "4. **Test Data Generation**: LangSmith's text generation capabilities can be used to generate test data that simulates real-world scenarios. This approach helps ensure your NLP model is well-trained on a diverse range of inputs.\n",
      "\n",
      "5. **Model Interpretability**: LangSmith offers visualization tools to help you understand how your NLP models are making predictions. By analyzing the attention weights, word embeddings, and other internal representations, you can identify biases or areas where the model may need improvement.\n",
      "\n",
      "6. **Test Case Generation**: Langsmith's test case generation feature allows you to create test cases based on specific conditions or scenarios. For example, you can generate test cases for handling out-of-vocabulary words, handling edge cases, or testing specific use cases.\n",
      "\n",
      "By incorporating LangSmith into your testing process, you can ensure that your NLP models are thoroughly tested and validated before being deployed in real-world applications.\n",
      "\n",
      "Would you like me to elaborate on any of these points?"
     ]
    }
   ],
   "source": [
    "# Invoke with a prompt, response streamed.\n",
    "chunks = []\n",
    "async for chunk in llm.astream(prompt):\n",
    "    chunks.append(chunk)\n",
    "    print(chunk, end=\"\", flush=False)"
   ]
  },
  {
   "cell_type": "code",
   "execution_count": null,
   "metadata": {},
   "outputs": [],
   "source": []
  }
 ],
 "metadata": {
  "kernelspec": {
   "display_name": "cloudspace",
   "language": "python",
   "name": "python3"
  },
  "language_info": {
   "codemirror_mode": {
    "name": "ipython",
    "version": 3
   },
   "file_extension": ".py",
   "mimetype": "text/x-python",
   "name": "python",
   "nbconvert_exporter": "python",
   "pygments_lexer": "ipython3",
   "version": "3.10.10"
  }
 },
 "nbformat": 4,
 "nbformat_minor": 2
}
